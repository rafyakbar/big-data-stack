{
 "cells": [
  {
   "cell_type": "code",
   "execution_count": 1,
   "id": "df858680-74bb-4ea1-af85-13d44b70b39a",
   "metadata": {},
   "outputs": [
    {
     "data": {
      "text/plain": [
       "<function __main__.measure_time(func, *args, **kwargs)>"
      ]
     },
     "execution_count": 1,
     "metadata": {},
     "output_type": "execute_result"
    }
   ],
   "source": [
    "import time\n",
    "import matplotlib.pyplot as plt\n",
    "import seaborn as sns\n",
    "import pyspark\n",
    "from pyspark.sql import SparkSession\n",
    "from pyspark.sql.functions import col, desc, when, count as spark_count, concat_ws, length, rand, row_number\n",
    "from pyspark.sql.window import Window\n",
    "import pandas as pd\n",
    "\n",
    "def measure_time(func, *args, **kwargs):\n",
    "    start = time.perf_counter()\n",
    "    result = func(*args, **kwargs)\n",
    "    end = time.perf_counter()\n",
    "    return result, end - start\n",
    "\n",
    "measure_time"
   ]
  },
  {
   "cell_type": "code",
   "execution_count": 2,
   "id": "e6ebec01-d0e5-4962-a962-9a7bf0b95fac",
   "metadata": {},
   "outputs": [
    {
     "data": {
      "text/html": [
       "\n",
       "            <div>\n",
       "                <p><b>SparkSession - in-memory</b></p>\n",
       "                \n",
       "        <div>\n",
       "            <p><b>SparkContext</b></p>\n",
       "\n",
       "            <p><a href=\"http://01a913b34f73:4040\">Spark UI</a></p>\n",
       "\n",
       "            <dl>\n",
       "              <dt>Version</dt>\n",
       "                <dd><code>v3.5.0</code></dd>\n",
       "              <dt>Master</dt>\n",
       "                <dd><code>spark://spark-master:7077</code></dd>\n",
       "              <dt>AppName</dt>\n",
       "                <dd><code>RAID_TRAIN_TFIDF-LR_HUMAN-GPT4</code></dd>\n",
       "            </dl>\n",
       "        </div>\n",
       "        \n",
       "            </div>\n",
       "        "
      ],
      "text/plain": [
       "<pyspark.sql.session.SparkSession at 0x7f480008f490>"
      ]
     },
     "execution_count": 2,
     "metadata": {},
     "output_type": "execute_result"
    }
   ],
   "source": [
    "spark = SparkSession.builder \\\n",
    "    .appName(\"RAID_TRAIN_TFIDF-LR_HUMAN-GPT4\") \\\n",
    "    .master(\"spark://spark-master:7077\") \\\n",
    "    .getOrCreate()\n",
    "\n",
    "spark"
   ]
  },
  {
   "cell_type": "code",
   "execution_count": 3,
   "id": "b65f41de-7158-470f-881d-5be8d90ca3c4",
   "metadata": {},
   "outputs": [
    {
     "data": {
      "text/plain": [
       "DataFrame[attack: string, domain: string, features: array<double>, generation: string, id: string, model: string]"
      ]
     },
     "execution_count": 3,
     "metadata": {},
     "output_type": "execute_result"
    }
   ],
   "source": [
    "df = spark.read.json(\"hdfs://namenode:8020/user/raid/filtered_minilm\")\n",
    "df"
   ]
  },
  {
   "cell_type": "markdown",
   "id": "4f1e03f8-e75e-4629-90d1-5fe4741d1550",
   "metadata": {},
   "source": [
    "# Total Baris"
   ]
  },
  {
   "cell_type": "code",
   "execution_count": 4,
   "id": "2426c7bc-e981-4607-8e15-5b237d3e6186",
   "metadata": {},
   "outputs": [
    {
     "name": "stdout",
     "output_type": "stream",
     "text": [
      "Menghitung total jumlah baris...\n",
      "✅ Total baris: 1,869,542 | Waktu: 10.1393 detik\n"
     ]
    }
   ],
   "source": [
    "print(\"Menghitung total jumlah baris...\")\n",
    "total_rows, time_0 = measure_time(lambda: df.count())\n",
    "print(f\"✅ Total baris: {total_rows:,} | Waktu: {time_0:.4f} detik\")"
   ]
  },
  {
   "cell_type": "markdown",
   "id": "f6ac9f8a-4d00-42b9-8cad-2156819d2ce4",
   "metadata": {},
   "source": [
    "# Filter"
   ]
  },
  {
   "cell_type": "code",
   "execution_count": 5,
   "id": "330a30a7-0177-4c4f-937d-b8451c4ad239",
   "metadata": {},
   "outputs": [
    {
     "name": "stdout",
     "output_type": "stream",
     "text": [
      "Memfilter data: model IN ('human', 'gpt4')...\n",
      "✅ Filter selesai dalam 0.0933 detik\n"
     ]
    }
   ],
   "source": [
    "print(\"Memfilter data: model IN ('human', 'gpt4')...\")\n",
    "df_filtered, filter_time = measure_time(\n",
    "    lambda: df.filter(\n",
    "        (col(\"model\").isin([\"human\", \"gpt4\"]))\n",
    "    )\n",
    ")\n",
    "print(f\"✅ Filter selesai dalam {filter_time:.4f} detik\")"
   ]
  },
  {
   "cell_type": "code",
   "execution_count": 6,
   "id": "2a4f6769-b6c6-4a2e-aeb9-e0708f4e5285",
   "metadata": {},
   "outputs": [
    {
     "name": "stdout",
     "output_type": "stream",
     "text": [
      "Menghitung total jumlah baris setelah filter...\n",
      "✅ Total baris: 160,390 | Waktu: 9.2517 detik\n"
     ]
    }
   ],
   "source": [
    "print(\"Menghitung total jumlah baris setelah filter...\")\n",
    "total_rows, time_1 = measure_time(lambda: df_filtered.count())\n",
    "print(f\"✅ Total baris: {total_rows:,} | Waktu: {time_1:.4f} detik\")"
   ]
  },
  {
   "cell_type": "code",
   "execution_count": 7,
   "id": "2cc6da2b-d537-4a8a-a94c-8fb6bacd0878",
   "metadata": {},
   "outputs": [
    {
     "data": {
      "text/plain": [
       "DataFrame[attack: string, domain: string, features: array<double>, generation: string, id: string, model: string]"
      ]
     },
     "execution_count": 7,
     "metadata": {},
     "output_type": "execute_result"
    }
   ],
   "source": [
    "df_filtered = df_filtered.repartition(32)\n",
    "df_filtered"
   ]
  },
  {
   "cell_type": "markdown",
   "id": "45f4001a-8ea9-40c6-920a-f2ddd2c4b7c2",
   "metadata": {},
   "source": [
    "# Split"
   ]
  },
  {
   "cell_type": "code",
   "execution_count": 8,
   "id": "ee09ccc2-c47b-4c0a-bc2c-8092d23b4fc2",
   "metadata": {},
   "outputs": [
    {
     "name": "stdout",
     "output_type": "stream",
     "text": [
      "[1] Total jumlah baris setelah filter...\n",
      "✅ Total baris: 160,390 | Waktu: 9.2517 detik\n"
     ]
    }
   ],
   "source": [
    "print(f\"[1] Total jumlah baris setelah filter...\")\n",
    "print(f\"✅ Total baris: {total_rows:,} | Waktu: {time_1:.4f} detik\")"
   ]
  },
  {
   "cell_type": "code",
   "execution_count": 9,
   "id": "7e74f80a-6ada-4da2-b653-38a7e95942b2",
   "metadata": {},
   "outputs": [
    {
     "name": "stdout",
     "output_type": "stream",
     "text": [
      "[2] Membuat kolom stratifikasi 'model_domain_attack' ...\n",
      "✅ Kolom stratifikasi dibuat dalam 0.0579 detik\n"
     ]
    }
   ],
   "source": [
    "print(\"[2] Membuat kolom stratifikasi 'model_domain_attack' ...\")\n",
    "df_with_strata, strat_time = measure_time(\n",
    "    lambda: df_filtered.withColumn(\n",
    "        \"model_domain_attack\",\n",
    "        concat_ws(\"_\", col(\"model\"), col(\"domain\"), col(\"attack\"))\n",
    "    )\n",
    ")\n",
    "print(f\"✅ Kolom stratifikasi dibuat dalam {strat_time:.4f} detik\")"
   ]
  },
  {
   "cell_type": "code",
   "execution_count": 10,
   "id": "e9a93e6a-6a0b-418a-a2ca-4f26bf6b1914",
   "metadata": {},
   "outputs": [
    {
     "data": {
      "text/plain": [
       "DataFrame[attack: string, domain: string, features: array<double>, generation: string, id: string, model: string, model_domain_attack: string]"
      ]
     },
     "execution_count": 10,
     "metadata": {},
     "output_type": "execute_result"
    }
   ],
   "source": [
    "df_with_strata = df_with_strata.repartition(32)\n",
    "df_with_strata"
   ]
  },
  {
   "cell_type": "code",
   "execution_count": 11,
   "id": "4095181e-ec93-492e-8fe3-337043e20a0d",
   "metadata": {},
   "outputs": [
    {
     "name": "stdout",
     "output_type": "stream",
     "text": [
      "[3] Menghitung jumlah baris per 'model_domain_attack' ...\n",
      "✅ Selesai dalam 0.0247 detik\n"
     ]
    }
   ],
   "source": [
    "print(\"[3] Menghitung jumlah baris per 'model_domain_attack' ...\")\n",
    "df_counts, count_time = measure_time(\n",
    "    lambda: df_with_strata.groupBy(\"model_domain_attack\").agg(spark_count(\"*\").alias(\"total_per_group\"))\n",
    ")\n",
    "print(f\"✅ Selesai dalam {count_time:.4f} detik\")"
   ]
  },
  {
   "cell_type": "code",
   "execution_count": 12,
   "id": "f8e0d5a7-28d0-4a89-8b2a-5032ab131382",
   "metadata": {},
   "outputs": [
    {
     "name": "stdout",
     "output_type": "stream",
     "text": [
      "[4] Gabungkan count ke setiap baris\n",
      "✅ Data berhasil digabung dengan count per grup dalam 0.0392 detik\n"
     ]
    }
   ],
   "source": [
    "print(\"[4] Gabungkan count ke setiap baris\")\n",
    "df_joined, join_time = measure_time(\n",
    "    lambda: df_with_strata.join(df_counts, on=\"model_domain_attack\", how=\"inner\")\n",
    ")\n",
    "print(f\"✅ Data berhasil digabung dengan count per grup dalam {join_time:.4f} detik\")"
   ]
  },
  {
   "cell_type": "code",
   "execution_count": 13,
   "id": "167d96f3-209c-4701-94bb-6820bdd3c0ad",
   "metadata": {},
   "outputs": [
    {
     "name": "stdout",
     "output_type": "stream",
     "text": [
      "[5] Memberi nomor urut acak dalam setiap grup ...\n",
      "✅ Penomoran selesai dalam 0.0298 detik\n"
     ]
    }
   ],
   "source": [
    "print(\"[5] Memberi nomor urut acak dalam setiap grup ...\")\n",
    "window_spec = Window.partitionBy(\"model_domain_attack\").orderBy(rand())\n",
    "df_numbered, number_time = measure_time(\n",
    "    lambda: df_joined.withColumn(\"row_num\", row_number().over(window_spec))\n",
    ")\n",
    "print(f\"✅ Penomoran selesai dalam {number_time:.4f} detik\")"
   ]
  },
  {
   "cell_type": "code",
   "execution_count": 14,
   "id": "e79d51c1-b398-410f-b299-28ddbde91364",
   "metadata": {},
   "outputs": [
    {
     "name": "stdout",
     "output_type": "stream",
     "text": [
      "[6] Menentukan split berdasarkan 70% per grup ...\n",
      "✅ Split logic selesai dalam 0.0678 detik\n"
     ]
    }
   ],
   "source": [
    "# [6] Tentukan batas 70% → masuk train jika row_num <= 0.7 * total_per_group\n",
    "print(\"[6] Menentukan split berdasarkan 70% per grup ...\")\n",
    "df_with_split, split_time = measure_time(\n",
    "    lambda: df_numbered.withColumn(\n",
    "        \"is_train\",\n",
    "        col(\"row_num\") <= (col(\"total_per_group\") * 0.7)\n",
    "    )\n",
    ")\n",
    "print(f\"✅ Split logic selesai dalam {split_time:.4f} detik\")"
   ]
  },
  {
   "cell_type": "code",
   "execution_count": 15,
   "id": "ef01815f-f7de-4e86-bf3b-361dcfcf844e",
   "metadata": {},
   "outputs": [
    {
     "name": "stdout",
     "output_type": "stream",
     "text": [
      "[7] Memisahkan train dan test ...\n",
      "✅ Train: 112,247 baris (dalam 13.3467 detik)\n",
      "✅ Test:  48,143 baris (dalam 10.0238 detik)\n"
     ]
    }
   ],
   "source": [
    "# [7] Pisahkan train dan test\n",
    "print(\"[7] Memisahkan train dan test ...\")\n",
    "train_df = df_with_split.filter(col(\"is_train\")).drop(\"row_num\", \"total_per_group\", \"is_train\")\n",
    "test_df = df_with_split.filter(~col(\"is_train\")).drop(\"row_num\", \"total_per_group\", \"is_train\")\n",
    "\n",
    "train_count, train_time = measure_time(lambda: train_df.count())\n",
    "test_count, test_time = measure_time(lambda: test_df.count())\n",
    "\n",
    "print(f\"✅ Train: {train_count:,} baris (dalam {train_time:.4f} detik)\")\n",
    "print(f\"✅ Test:  {test_count:,} baris (dalam {test_time:.4f} detik)\")"
   ]
  },
  {
   "cell_type": "code",
   "execution_count": 16,
   "id": "64cafb1c-d885-406a-ba3e-b69f147cd6c9",
   "metadata": {},
   "outputs": [
    {
     "name": "stdout",
     "output_type": "stream",
     "text": [
      "[8] Menghitung distribusi 'model_domain_attack' di train...\n",
      "[9] Menghitung distribusi 'model_domain_attack' di test...\n",
      "[10] Menggabungkan distribusi train dan test...\n",
      "[11] Mengambil hasil untuk ditampilkan...\n",
      "✅ Berhasil mengambil 64 kelas dalam 12.4837 detik\n"
     ]
    }
   ],
   "source": [
    "# [8] Hitung distribusi di train\n",
    "print(\"[8] Menghitung distribusi 'model_domain_attack' di train...\")\n",
    "train_dist = train_df.groupBy(\"model_domain_attack\").count().withColumnRenamed(\"count\", \"train_count\")\n",
    "\n",
    "# [9] Hitung distribusi di test\n",
    "print(\"[9] Menghitung distribusi 'model_domain_attack' di test...\")\n",
    "test_dist = test_df.groupBy(\"model_domain_attack\").count().withColumnRenamed(\"count\", \"test_count\")\n",
    "\n",
    "# [10] Gabungkan train dan test berdasarkan label\n",
    "print(\"[10] Menggabungkan distribusi train dan test...\")\n",
    "from pyspark.sql.functions import coalesce, lit, round as spark_round\n",
    "\n",
    "# Hitung total keseluruhan untuk persentase\n",
    "total_train = train_count\n",
    "total_test = test_count\n",
    "\n",
    "# Join full outer agar semua label muncul (meski hanya di train atau test)\n",
    "combined = train_dist.join(test_dist, on=\"model_domain_attack\", how=\"full_outer\") \\\n",
    "    .fillna(0, subset=[\"train_count\", \"test_count\"])\n",
    "\n",
    "# Urutkan berdasarkan total frekuensi (opsional)\n",
    "combined_sorted = combined.orderBy(col(\"train_count\").desc())\n",
    "\n",
    "# Ambil sebagai Pandas DataFrame untuk tampilan\n",
    "print(\"[11] Mengambil hasil untuk ditampilkan...\")\n",
    "result_pd, fetch_time = measure_time(\n",
    "    lambda: combined_sorted.toPandas()\n",
    ")\n",
    "print(f\"✅ Berhasil mengambil {len(result_pd):,} kelas dalam {fetch_time:.4f} detik\")"
   ]
  },
  {
   "cell_type": "code",
   "execution_count": 17,
   "id": "caf782bc-69e0-4604-9502-9de3df63aaf2",
   "metadata": {},
   "outputs": [
    {
     "data": {
      "text/html": [
       "<div>\n",
       "<style scoped>\n",
       "    .dataframe tbody tr th:only-of-type {\n",
       "        vertical-align: middle;\n",
       "    }\n",
       "\n",
       "    .dataframe tbody tr th {\n",
       "        vertical-align: top;\n",
       "    }\n",
       "\n",
       "    .dataframe thead th {\n",
       "        text-align: right;\n",
       "    }\n",
       "</style>\n",
       "<table border=\"1\" class=\"dataframe\">\n",
       "  <thead>\n",
       "    <tr style=\"text-align: right;\">\n",
       "      <th></th>\n",
       "      <th>model_domain_attack</th>\n",
       "      <th>train_count</th>\n",
       "      <th>test_count</th>\n",
       "    </tr>\n",
       "  </thead>\n",
       "  <tbody>\n",
       "    <tr>\n",
       "      <th>0</th>\n",
       "      <td>gpt4_books_alternative_spelling</td>\n",
       "      <td>2493</td>\n",
       "      <td>1069</td>\n",
       "    </tr>\n",
       "    <tr>\n",
       "      <th>1</th>\n",
       "      <td>gpt4_books_none</td>\n",
       "      <td>2493</td>\n",
       "      <td>1069</td>\n",
       "    </tr>\n",
       "    <tr>\n",
       "      <th>2</th>\n",
       "      <td>gpt4_books_paraphrase</td>\n",
       "      <td>2493</td>\n",
       "      <td>1069</td>\n",
       "    </tr>\n",
       "    <tr>\n",
       "      <th>3</th>\n",
       "      <td>gpt4_books_synonym</td>\n",
       "      <td>2493</td>\n",
       "      <td>1069</td>\n",
       "    </tr>\n",
       "    <tr>\n",
       "      <th>4</th>\n",
       "      <td>gpt4_news_alternative_spelling</td>\n",
       "      <td>2492</td>\n",
       "      <td>1068</td>\n",
       "    </tr>\n",
       "    <tr>\n",
       "      <th>...</th>\n",
       "      <td>...</td>\n",
       "      <td>...</td>\n",
       "      <td>...</td>\n",
       "    </tr>\n",
       "    <tr>\n",
       "      <th>59</th>\n",
       "      <td>human_abstracts_paraphrase</td>\n",
       "      <td>1235</td>\n",
       "      <td>530</td>\n",
       "    </tr>\n",
       "    <tr>\n",
       "      <th>60</th>\n",
       "      <td>human_reviews_alternative_spelling</td>\n",
       "      <td>660</td>\n",
       "      <td>283</td>\n",
       "    </tr>\n",
       "    <tr>\n",
       "      <th>61</th>\n",
       "      <td>human_reviews_none</td>\n",
       "      <td>660</td>\n",
       "      <td>283</td>\n",
       "    </tr>\n",
       "    <tr>\n",
       "      <th>62</th>\n",
       "      <td>human_reviews_synonym</td>\n",
       "      <td>660</td>\n",
       "      <td>283</td>\n",
       "    </tr>\n",
       "    <tr>\n",
       "      <th>63</th>\n",
       "      <td>human_reviews_paraphrase</td>\n",
       "      <td>659</td>\n",
       "      <td>283</td>\n",
       "    </tr>\n",
       "  </tbody>\n",
       "</table>\n",
       "<p>64 rows × 3 columns</p>\n",
       "</div>"
      ],
      "text/plain": [
       "                   model_domain_attack  train_count  test_count\n",
       "0      gpt4_books_alternative_spelling         2493        1069\n",
       "1                      gpt4_books_none         2493        1069\n",
       "2                gpt4_books_paraphrase         2493        1069\n",
       "3                   gpt4_books_synonym         2493        1069\n",
       "4       gpt4_news_alternative_spelling         2492        1068\n",
       "..                                 ...          ...         ...\n",
       "59          human_abstracts_paraphrase         1235         530\n",
       "60  human_reviews_alternative_spelling          660         283\n",
       "61                  human_reviews_none          660         283\n",
       "62               human_reviews_synonym          660         283\n",
       "63            human_reviews_paraphrase          659         283\n",
       "\n",
       "[64 rows x 3 columns]"
      ]
     },
     "execution_count": 17,
     "metadata": {},
     "output_type": "execute_result"
    }
   ],
   "source": [
    "result_pd"
   ]
  },
  {
   "cell_type": "markdown",
   "id": "37e9e2f1-9b16-49ea-9841-1967c7542ea6",
   "metadata": {},
   "source": [
    "# Train"
   ]
  },
  {
   "cell_type": "code",
   "execution_count": 18,
   "id": "4bb012e0-16ff-49ea-8d54-a7a7d84227d2",
   "metadata": {},
   "outputs": [
    {
     "data": {
      "text/plain": [
       "(DataFrame[model_domain_attack: string, attack: string, domain: string, features: array<double>, generation: string, id: string, model: string],\n",
       " DataFrame[model_domain_attack: string, attack: string, domain: string, features: array<double>, generation: string, id: string, model: string])"
      ]
     },
     "execution_count": 18,
     "metadata": {},
     "output_type": "execute_result"
    }
   ],
   "source": [
    "from pyspark.ml.feature import (\n",
    "    SQLTransformer, StringIndexer, RegexTokenizer,\n",
    "    StopWordsRemover, HashingTF, IDF\n",
    ")\n",
    "from pyspark.ml.classification import LogisticRegression\n",
    "from pyspark.ml import Pipeline\n",
    "from pyspark.ml.evaluation import MulticlassClassificationEvaluator\n",
    "from pyspark.sql.types import FloatType\n",
    "\n",
    "train_df, test_df"
   ]
  },
  {
   "cell_type": "code",
   "execution_count": 19,
   "id": "4d47f308-c477-4410-9d96-e706203d58fe",
   "metadata": {},
   "outputs": [
    {
     "name": "stdout",
     "output_type": "stream",
     "text": [
      "[12] Menyiapkan kolom 'text' dan 'label_string'...\n"
     ]
    },
    {
     "data": {
      "text/plain": [
       "(DataFrame[text: string, label_string: string],\n",
       " DataFrame[text: string, label_string: string])"
      ]
     },
     "execution_count": 19,
     "metadata": {},
     "output_type": "execute_result"
    }
   ],
   "source": [
    "# --- 1. Siapkan hanya kolom teks (label akan diindex) ---\n",
    "print(\"[12] Menyiapkan kolom 'text' dan 'label_string'...\")\n",
    "train_input = train_df.select(\n",
    "    col(\"generation\").alias(\"text\"),\n",
    "    col(\"model\").alias(\"label_string\")\n",
    ")\n",
    "test_input = test_df.select(\n",
    "    col(\"generation\").alias(\"text\"),\n",
    "    col(\"model\").alias(\"label_string\")\n",
    ")\n",
    "\n",
    "train_input = train_input.repartition(128)\n",
    "test_input = test_input.repartition(128)\n",
    "\n",
    "train_input, test_input"
   ]
  },
  {
   "cell_type": "code",
   "execution_count": 20,
   "id": "ccadc9e4-51ce-4bba-999c-2329e8b62719",
   "metadata": {},
   "outputs": [
    {
     "name": "stdout",
     "output_type": "stream",
     "text": [
      "[13] Membangun pipeline: StringIndexer → TF-IDF → LogisticRegression...\n"
     ]
    },
    {
     "data": {
      "text/plain": [
       "Pipeline_5fb94a73533d"
      ]
     },
     "execution_count": 20,
     "metadata": {},
     "output_type": "execute_result"
    }
   ],
   "source": [
    "# --- 2. Bangun pipeline dengan StringIndexer ---\n",
    "print(\"[13] Membangun pipeline: StringIndexer → TF-IDF → LogisticRegression...\")\n",
    "\n",
    "# --- 1. Label encoder ---\n",
    "string_indexer = StringIndexer(\n",
    "    inputCol=\"label_string\",\n",
    "    outputCol=\"label\",\n",
    "    handleInvalid=\"error\"\n",
    ")\n",
    "\n",
    "# --- 2. Normalisasi teks (huruf kecil & hilangkan simbol) ---\n",
    "text_cleaner = SQLTransformer(\n",
    "    statement=\"\"\"\n",
    "        SELECT *, \n",
    "        lower(regexp_replace(text, '[^a-zA-Z\\\\s]', '')) AS clean_text \n",
    "        FROM __THIS__\n",
    "    \"\"\"\n",
    ")\n",
    "\n",
    "# --- 3. Tokenizer & Stopwords remover ---\n",
    "tokenizer = RegexTokenizer(\n",
    "    inputCol=\"clean_text\",\n",
    "    outputCol=\"words\",\n",
    "    pattern=\"\\\\W\"\n",
    ")\n",
    "\n",
    "stopwords_remover = StopWordsRemover(\n",
    "    inputCol=\"words\",\n",
    "    outputCol=\"filtered\"\n",
    ")\n",
    "\n",
    "# --- 4. TF-IDF ---\n",
    "hashing_tf = HashingTF(\n",
    "    inputCol=\"filtered\",\n",
    "    outputCol=\"raw_features\",\n",
    "    numFeatures=1000\n",
    ")\n",
    "\n",
    "idf = IDF(\n",
    "    inputCol=\"raw_features\",\n",
    "    outputCol=\"features\"\n",
    ")\n",
    "\n",
    "# --- 5. Logistic Regression ---\n",
    "lr = LogisticRegression(\n",
    "    featuresCol=\"features\",\n",
    "    labelCol=\"label\",\n",
    "    family=\"multinomial\",\n",
    "    regParam=0.1,\n",
    "    maxIter=50\n",
    ")\n",
    "\n",
    "# --- 6. Gabungkan dalam pipeline ---\n",
    "pipeline = Pipeline(stages=[\n",
    "    string_indexer,\n",
    "    text_cleaner,\n",
    "    tokenizer,\n",
    "    stopwords_remover,\n",
    "    hashing_tf,\n",
    "    idf,\n",
    "    lr\n",
    "])\n",
    "\n",
    "pipeline"
   ]
  },
  {
   "cell_type": "code",
   "execution_count": 21,
   "id": "c0fedd58-33db-49b6-a0ef-29dd29c94cf5",
   "metadata": {},
   "outputs": [
    {
     "name": "stdout",
     "output_type": "stream",
     "text": [
      "[14] Melatih model pada train_input...\n",
      "✅ Model berhasil dilatih dalam 163.0516 detik\n"
     ]
    }
   ],
   "source": [
    "# --- 3. Latih model ---\n",
    "print(\"[14] Melatih model pada train_input...\")\n",
    "model, train_model_time = measure_time(\n",
    "    lambda: pipeline.fit(train_input)\n",
    ")\n",
    "print(f\"✅ Model berhasil dilatih dalam {train_model_time:.4f} detik\")"
   ]
  },
  {
   "cell_type": "code",
   "execution_count": 22,
   "id": "f6df37c9-d9ba-43fd-9867-4a0fbf05ffc8",
   "metadata": {},
   "outputs": [
    {
     "name": "stdout",
     "output_type": "stream",
     "text": [
      "[15] Menyimpan model ke HDFS: hdfs://namenode:8020/user/raid/model-tfidf-lr_human-gpt4...\n",
      "✅ Model disimpan dalam 8.0311 detik\n"
     ]
    }
   ],
   "source": [
    "# --- 4. Simpan model ke HDFS ---\n",
    "model_path = \"hdfs://namenode:8020/user/raid/model-tfidf-lr_human-gpt4\"\n",
    "print(f\"[15] Menyimpan model ke HDFS: {model_path}...\")\n",
    "_, save_time = measure_time(\n",
    "    lambda: model.write().overwrite().save(model_path)\n",
    ")\n",
    "print(f\"✅ Model disimpan dalam {save_time:.4f} detik\")"
   ]
  },
  {
   "cell_type": "code",
   "execution_count": 23,
   "id": "9b038104-9d9f-4e5e-abc7-2064c36195e5",
   "metadata": {},
   "outputs": [
    {
     "name": "stdout",
     "output_type": "stream",
     "text": [
      "[16] Melakukan prediksi pada test_input...\n",
      "✅ Prediksi selesai dalam 0.12 detik\n",
      "+--------------------------------------------------+------------+-----+----------+\n",
      "|                                              text|label_string|label|prediction|\n",
      "+--------------------------------------------------+------------+-----+----------+\n",
      "|Ma pauvre muse, hélas! qu'as-tu donc ce matin?\\...|       human|  1.0|       0.0|\n",
      "|\"An Intelligent Person’s Guide to Atheism\" is a...|        gpt4|  0.0|       0.0|\n",
      "|For the moment I do not know if this is the rig...|        gpt4|  0.0|       0.0|\n",
      "| The book's four main characters are ecological...|       human|  1.0|       0.0|\n",
      "|\"Scarlet Feather\" is a captivating novel that r...|        gpt4|  0.0|       0.0|\n",
      "+--------------------------------------------------+------------+-----+----------+\n",
      "only showing top 5 rows\n",
      "\n"
     ]
    }
   ],
   "source": [
    "# --- 5. Prediksi pada test set ---\n",
    "print(\"[16] Melakukan prediksi pada test_input...\")\n",
    "predictions, predict_time = measure_time(\n",
    "    lambda: model.transform(test_input)\n",
    ")\n",
    "print(f\"✅ Prediksi selesai dalam {predict_time:.2f} detik\")\n",
    "\n",
    "# Tampilkan contoh\n",
    "predictions.select(\"text\", \"label_string\", \"label\", \"prediction\").show(5, truncate=50)"
   ]
  },
  {
   "cell_type": "code",
   "execution_count": 24,
   "id": "2e9e8af2-ab8d-4a93-bc5a-7d05091107df",
   "metadata": {},
   "outputs": [
    {
     "name": "stdout",
     "output_type": "stream",
     "text": [
      "[17] Evaluasi...\n",
      "✅ Accuracy    : 0.6665 | Waktu: 27.2727 detik\n",
      "✅ Precision   : 0.4442 | Waktu: 27.6336 detik\n",
      "✅ Recall      : 0.6665 | Waktu: 29.4832 detik\n",
      "✅ F1-score    : 0.5331 | Waktu: 29.2862 detik\n"
     ]
    }
   ],
   "source": [
    "from pyspark.ml.evaluation import MulticlassClassificationEvaluator\n",
    "\n",
    "# --- 6. Evaluasi berbagai metrik ---\n",
    "print(\"[17] Evaluasi...\")\n",
    "\n",
    "# Accuracy\n",
    "evaluator_acc = MulticlassClassificationEvaluator(\n",
    "    labelCol=\"label\",\n",
    "    predictionCol=\"prediction\",\n",
    "    metricName=\"accuracy\"\n",
    ")\n",
    "accuracy, time_acc = measure_time(lambda: evaluator_acc.evaluate(predictions))\n",
    "\n",
    "# Weighted Precision\n",
    "evaluator_prec = MulticlassClassificationEvaluator(\n",
    "    labelCol=\"label\",\n",
    "    predictionCol=\"prediction\",\n",
    "    metricName=\"weightedPrecision\"\n",
    ")\n",
    "precision, time_prec = measure_time(lambda: evaluator_prec.evaluate(predictions))\n",
    "\n",
    "# Weighted Recall\n",
    "evaluator_rec = MulticlassClassificationEvaluator(\n",
    "    labelCol=\"label\",\n",
    "    predictionCol=\"prediction\",\n",
    "    metricName=\"weightedRecall\"\n",
    ")\n",
    "recall, time_rec = measure_time(lambda: evaluator_rec.evaluate(predictions))\n",
    "\n",
    "# F1-score (weighted)\n",
    "evaluator_f1 = MulticlassClassificationEvaluator(\n",
    "    labelCol=\"label\",\n",
    "    predictionCol=\"prediction\",\n",
    "    metricName=\"f1\"\n",
    ")\n",
    "f1_score, time_f1 = measure_time(lambda: evaluator_f1.evaluate(predictions))\n",
    "\n",
    "# Tampilkan hasil\n",
    "print(f\"✅ Accuracy    : {accuracy:.4f} | Waktu: {time_acc:.4f} detik\")\n",
    "print(f\"✅ Precision   : {precision:.4f} | Waktu: {time_prec:.4f} detik\")\n",
    "print(f\"✅ Recall      : {recall:.4f} | Waktu: {time_rec:.4f} detik\")\n",
    "print(f\"✅ F1-score    : {f1_score:.4f} | Waktu: {time_f1:.4f} detik\")"
   ]
  },
  {
   "cell_type": "code",
   "execution_count": 25,
   "id": "1321ca23-2f13-4788-832e-cc1a9c575c5a",
   "metadata": {},
   "outputs": [
    {
     "name": "stdout",
     "output_type": "stream",
     "text": [
      "[18] Membuat confusion matrix dengan label string...\n",
      "✅ Selesai dalam 32.9961 detik\n"
     ]
    },
    {
     "data": {
      "text/html": [
       "<div>\n",
       "<style scoped>\n",
       "    .dataframe tbody tr th:only-of-type {\n",
       "        vertical-align: middle;\n",
       "    }\n",
       "\n",
       "    .dataframe tbody tr th {\n",
       "        vertical-align: top;\n",
       "    }\n",
       "\n",
       "    .dataframe thead th {\n",
       "        text-align: right;\n",
       "    }\n",
       "</style>\n",
       "<table border=\"1\" class=\"dataframe\">\n",
       "  <thead>\n",
       "    <tr style=\"text-align: right;\">\n",
       "      <th></th>\n",
       "      <th>label_string</th>\n",
       "      <th>label</th>\n",
       "      <th>prediction</th>\n",
       "    </tr>\n",
       "  </thead>\n",
       "  <tbody>\n",
       "    <tr>\n",
       "      <th>0</th>\n",
       "      <td>gpt4</td>\n",
       "      <td>0.0</td>\n",
       "      <td>0.0</td>\n",
       "    </tr>\n",
       "    <tr>\n",
       "      <th>1</th>\n",
       "      <td>human</td>\n",
       "      <td>1.0</td>\n",
       "      <td>0.0</td>\n",
       "    </tr>\n",
       "    <tr>\n",
       "      <th>2</th>\n",
       "      <td>gpt4</td>\n",
       "      <td>0.0</td>\n",
       "      <td>0.0</td>\n",
       "    </tr>\n",
       "    <tr>\n",
       "      <th>3</th>\n",
       "      <td>gpt4</td>\n",
       "      <td>0.0</td>\n",
       "      <td>0.0</td>\n",
       "    </tr>\n",
       "    <tr>\n",
       "      <th>4</th>\n",
       "      <td>gpt4</td>\n",
       "      <td>0.0</td>\n",
       "      <td>0.0</td>\n",
       "    </tr>\n",
       "    <tr>\n",
       "      <th>...</th>\n",
       "      <td>...</td>\n",
       "      <td>...</td>\n",
       "      <td>...</td>\n",
       "    </tr>\n",
       "    <tr>\n",
       "      <th>48138</th>\n",
       "      <td>gpt4</td>\n",
       "      <td>0.0</td>\n",
       "      <td>0.0</td>\n",
       "    </tr>\n",
       "    <tr>\n",
       "      <th>48139</th>\n",
       "      <td>human</td>\n",
       "      <td>1.0</td>\n",
       "      <td>0.0</td>\n",
       "    </tr>\n",
       "    <tr>\n",
       "      <th>48140</th>\n",
       "      <td>gpt4</td>\n",
       "      <td>0.0</td>\n",
       "      <td>0.0</td>\n",
       "    </tr>\n",
       "    <tr>\n",
       "      <th>48141</th>\n",
       "      <td>human</td>\n",
       "      <td>1.0</td>\n",
       "      <td>0.0</td>\n",
       "    </tr>\n",
       "    <tr>\n",
       "      <th>48142</th>\n",
       "      <td>human</td>\n",
       "      <td>1.0</td>\n",
       "      <td>0.0</td>\n",
       "    </tr>\n",
       "  </tbody>\n",
       "</table>\n",
       "<p>48143 rows × 3 columns</p>\n",
       "</div>"
      ],
      "text/plain": [
       "      label_string  label  prediction\n",
       "0             gpt4    0.0         0.0\n",
       "1            human    1.0         0.0\n",
       "2             gpt4    0.0         0.0\n",
       "3             gpt4    0.0         0.0\n",
       "4             gpt4    0.0         0.0\n",
       "...            ...    ...         ...\n",
       "48138         gpt4    0.0         0.0\n",
       "48139        human    1.0         0.0\n",
       "48140         gpt4    0.0         0.0\n",
       "48141        human    1.0         0.0\n",
       "48142        human    1.0         0.0\n",
       "\n",
       "[48143 rows x 3 columns]"
      ]
     },
     "execution_count": 25,
     "metadata": {},
     "output_type": "execute_result"
    }
   ],
   "source": [
    "print(\"[18] Membuat confusion matrix dengan label string...\")\n",
    "\n",
    "from sklearn.metrics import confusion_matrix, ConfusionMatrixDisplay\n",
    "import matplotlib.pyplot as plt\n",
    "import numpy as np\n",
    "\n",
    "# Ambil hasil prediksi ke Pandas\n",
    "pred_pd, time_pred_pd = measure_time(lambda: predictions.select(\"label_string\", \"label\", \"prediction\").toPandas())\n",
    "print(f'✅ Selesai dalam {time_pred_pd:.4f} detik')\n",
    "pred_pd"
   ]
  },
  {
   "cell_type": "code",
   "execution_count": 26,
   "id": "dd948e6b-b446-4da3-8699-b4657a1ef16c",
   "metadata": {},
   "outputs": [
    {
     "data": {
      "text/plain": [
       "{0.0: 'gpt4', 1.0: 'human'}"
      ]
     },
     "execution_count": 26,
     "metadata": {},
     "output_type": "execute_result"
    }
   ],
   "source": [
    "# Buat mapping label numerik ke string (gunakan data unik dari hasil prediksi)\n",
    "label_map = (\n",
    "    pred_pd[[\"label\", \"label_string\"]]\n",
    "    .drop_duplicates()\n",
    "    .sort_values(\"label\")\n",
    "    .set_index(\"label\")[\"label_string\"]\n",
    "    .to_dict()\n",
    ")\n",
    "label_map"
   ]
  },
  {
   "cell_type": "code",
   "execution_count": 27,
   "id": "7814c7a3-59a0-4153-8a49-66cb82a19355",
   "metadata": {},
   "outputs": [
    {
     "data": {
      "text/html": [
       "<div>\n",
       "<style scoped>\n",
       "    .dataframe tbody tr th:only-of-type {\n",
       "        vertical-align: middle;\n",
       "    }\n",
       "\n",
       "    .dataframe tbody tr th {\n",
       "        vertical-align: top;\n",
       "    }\n",
       "\n",
       "    .dataframe thead th {\n",
       "        text-align: right;\n",
       "    }\n",
       "</style>\n",
       "<table border=\"1\" class=\"dataframe\">\n",
       "  <thead>\n",
       "    <tr style=\"text-align: right;\">\n",
       "      <th></th>\n",
       "      <th>label_string</th>\n",
       "      <th>label</th>\n",
       "      <th>prediction</th>\n",
       "      <th>true_label</th>\n",
       "      <th>pred_label</th>\n",
       "    </tr>\n",
       "  </thead>\n",
       "  <tbody>\n",
       "    <tr>\n",
       "      <th>0</th>\n",
       "      <td>gpt4</td>\n",
       "      <td>0.0</td>\n",
       "      <td>0.0</td>\n",
       "      <td>gpt4</td>\n",
       "      <td>gpt4</td>\n",
       "    </tr>\n",
       "    <tr>\n",
       "      <th>1</th>\n",
       "      <td>human</td>\n",
       "      <td>1.0</td>\n",
       "      <td>0.0</td>\n",
       "      <td>human</td>\n",
       "      <td>gpt4</td>\n",
       "    </tr>\n",
       "    <tr>\n",
       "      <th>2</th>\n",
       "      <td>gpt4</td>\n",
       "      <td>0.0</td>\n",
       "      <td>0.0</td>\n",
       "      <td>gpt4</td>\n",
       "      <td>gpt4</td>\n",
       "    </tr>\n",
       "    <tr>\n",
       "      <th>3</th>\n",
       "      <td>gpt4</td>\n",
       "      <td>0.0</td>\n",
       "      <td>0.0</td>\n",
       "      <td>gpt4</td>\n",
       "      <td>gpt4</td>\n",
       "    </tr>\n",
       "    <tr>\n",
       "      <th>4</th>\n",
       "      <td>gpt4</td>\n",
       "      <td>0.0</td>\n",
       "      <td>0.0</td>\n",
       "      <td>gpt4</td>\n",
       "      <td>gpt4</td>\n",
       "    </tr>\n",
       "    <tr>\n",
       "      <th>...</th>\n",
       "      <td>...</td>\n",
       "      <td>...</td>\n",
       "      <td>...</td>\n",
       "      <td>...</td>\n",
       "      <td>...</td>\n",
       "    </tr>\n",
       "    <tr>\n",
       "      <th>48138</th>\n",
       "      <td>gpt4</td>\n",
       "      <td>0.0</td>\n",
       "      <td>0.0</td>\n",
       "      <td>gpt4</td>\n",
       "      <td>gpt4</td>\n",
       "    </tr>\n",
       "    <tr>\n",
       "      <th>48139</th>\n",
       "      <td>human</td>\n",
       "      <td>1.0</td>\n",
       "      <td>0.0</td>\n",
       "      <td>human</td>\n",
       "      <td>gpt4</td>\n",
       "    </tr>\n",
       "    <tr>\n",
       "      <th>48140</th>\n",
       "      <td>gpt4</td>\n",
       "      <td>0.0</td>\n",
       "      <td>0.0</td>\n",
       "      <td>gpt4</td>\n",
       "      <td>gpt4</td>\n",
       "    </tr>\n",
       "    <tr>\n",
       "      <th>48141</th>\n",
       "      <td>human</td>\n",
       "      <td>1.0</td>\n",
       "      <td>0.0</td>\n",
       "      <td>human</td>\n",
       "      <td>gpt4</td>\n",
       "    </tr>\n",
       "    <tr>\n",
       "      <th>48142</th>\n",
       "      <td>human</td>\n",
       "      <td>1.0</td>\n",
       "      <td>0.0</td>\n",
       "      <td>human</td>\n",
       "      <td>gpt4</td>\n",
       "    </tr>\n",
       "  </tbody>\n",
       "</table>\n",
       "<p>48143 rows × 5 columns</p>\n",
       "</div>"
      ],
      "text/plain": [
       "      label_string  label  prediction true_label pred_label\n",
       "0             gpt4    0.0         0.0       gpt4       gpt4\n",
       "1            human    1.0         0.0      human       gpt4\n",
       "2             gpt4    0.0         0.0       gpt4       gpt4\n",
       "3             gpt4    0.0         0.0       gpt4       gpt4\n",
       "4             gpt4    0.0         0.0       gpt4       gpt4\n",
       "...            ...    ...         ...        ...        ...\n",
       "48138         gpt4    0.0         0.0       gpt4       gpt4\n",
       "48139        human    1.0         0.0      human       gpt4\n",
       "48140         gpt4    0.0         0.0       gpt4       gpt4\n",
       "48141        human    1.0         0.0      human       gpt4\n",
       "48142        human    1.0         0.0      human       gpt4\n",
       "\n",
       "[48143 rows x 5 columns]"
      ]
     },
     "execution_count": 27,
     "metadata": {},
     "output_type": "execute_result"
    }
   ],
   "source": [
    "pred_pd[\"true_label\"] = pred_pd[\"label\"].map(label_map)\n",
    "pred_pd[\"pred_label\"] = pred_pd[\"prediction\"].map(label_map)\n",
    "pred_pd"
   ]
  },
  {
   "cell_type": "code",
   "execution_count": 29,
   "id": "a03f3bf4-a6ff-469c-86c7-641024d739d3",
   "metadata": {},
   "outputs": [
    {
     "name": "stdout",
     "output_type": "stream",
     "text": [
      "Menyimpan hasil ke HDFS: hdfs://namenode:8020/user/raid/tfidf-lr_human-gpt4_results.parquet...\n",
      "✅ Hasil disimpan dalam 33.9894 detik\n"
     ]
    }
   ],
   "source": [
    "results_path = \"hdfs://namenode:8020/user/raid/tfidf-lr_human-gpt4_results.parquet\"\n",
    "print(f\"Menyimpan hasil ke HDFS: {results_path}...\")\n",
    "_, save_time = measure_time(\n",
    "    lambda: predictions.select(\"label_string\", \"label\", \"prediction\") \\\n",
    "        .write.mode(\"overwrite\") \\\n",
    "        .parquet(results_path)\n",
    ")\n",
    "print(f\"✅ Hasil disimpan dalam {save_time:.4f} detik\")"
   ]
  },
  {
   "cell_type": "code",
   "execution_count": 30,
   "id": "0f07ea23-b891-4828-ac85-1afd39bd52b0",
   "metadata": {},
   "outputs": [
    {
     "data": {
      "text/plain": [
       "2"
      ]
     },
     "execution_count": 30,
     "metadata": {},
     "output_type": "execute_result"
    }
   ],
   "source": [
    "# Ambil hanya label yang muncul di data\n",
    "unique_labels = sorted(list(set(pred_pd[\"true_label\"]) | set(pred_pd[\"pred_label\"])))\n",
    "len(unique_labels)"
   ]
  },
  {
   "cell_type": "code",
   "execution_count": 31,
   "id": "72c770a7-8db4-4121-af14-077bb2360b35",
   "metadata": {},
   "outputs": [
    {
     "data": {
      "text/plain": [
       "['gpt4', 'human']"
      ]
     },
     "execution_count": 31,
     "metadata": {},
     "output_type": "execute_result"
    }
   ],
   "source": [
    "unique_labels"
   ]
  },
  {
   "cell_type": "code",
   "execution_count": 40,
   "id": "a0b07c75-3c76-4ce1-8a27-147edcb3cf6c",
   "metadata": {},
   "outputs": [
    {
     "data": {
      "image/png": "[encoded data removed]",
      "text/plain": [
       "<Figure size 1200x1000 with 2 Axes>"
      ]
     },
     "metadata": {},
     "output_type": "display_data"
    }
   ],
   "source": [
    "# Buat confusion matrix\n",
    "cm = confusion_matrix(pred_pd[\"true_label\"], pred_pd[\"pred_label\"], labels=unique_labels)\n",
    "\n",
    "# Visualisasi\n",
    "fig, ax = plt.subplots(figsize=(12, 10))\n",
    "disp = ConfusionMatrixDisplay(confusion_matrix=cm, display_labels=unique_labels)\n",
    "disp.plot(ax=ax, cmap=\"Blues\", colorbar=True, xticks_rotation=90)\n",
    "plt.title(\"Confusion Matrix (TF-IDF + Logistic Regression)\")\n",
    "plt.tight_layout()\n",
    "plt.show()"
   ]
  },
  {
   "cell_type": "code",
   "execution_count": 49,
   "id": "892c37ca-8140-4491-b522-5f2225561c63",
   "metadata": {},
   "outputs": [],
   "source": [
    "spark.stop()"
   ]
  }
 ],
 "metadata": {
  "kernelspec": {
   "display_name": "Python 3 (ipykernel)",
   "language": "python",
   "name": "python3"
  },
  "language_info": {
   "codemirror_mode": {
    "name": "ipython",
    "version": 3
   },
   "file_extension": ".py",
   "mimetype": "text/x-python",
   "name": "python",
   "nbconvert_exporter": "python",
   "pygments_lexer": "ipython3",
   "version": "3.11.6"
  }
 },
 "nbformat": 4,
 "nbformat_minor": 5
}
