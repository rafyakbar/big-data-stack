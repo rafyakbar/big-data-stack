{
 "cells": [
  {
   "cell_type": "code",
   "execution_count": 1,
   "id": "ce6cf73f-5161-48c4-9058-3b40ce24c412",
   "metadata": {},
   "outputs": [
    {
     "data": {
      "text/plain": [
       "(<function __main__.measure_time(func, *args, **kwargs)>,\n",
       " <function __main__.run_command(cmd: str, capture_output: bool = True, timeout: int = None)>)"
      ]
     },
     "execution_count": 1,
     "metadata": {},
     "output_type": "execute_result"
    }
   ],
   "source": [
    "import subprocess\n",
    "import time\n",
    "\n",
    "def measure_time(func, *args, **kwargs):\n",
    "    start = time.perf_counter()\n",
    "    result = func(*args, **kwargs)\n",
    "    end = time.perf_counter()\n",
    "    return result, end - start\n",
    "\n",
    "def run_command(cmd: str, capture_output: bool = True, timeout: int = None):\n",
    "    result = subprocess.run(\n",
    "        cmd,\n",
    "        shell=True,\n",
    "        capture_output=capture_output,\n",
    "        text=True,\n",
    "        timeout=timeout,\n",
    "        check=True\n",
    "    )\n",
    "    return result\n",
    "\n",
    "measure_time, run_command"
   ]
  },
  {
   "cell_type": "code",
   "execution_count": 2,
   "id": "ca543221-f11a-437b-a233-a7a6bc44c288",
   "metadata": {},
   "outputs": [
    {
     "name": "stdout",
     "output_type": "stream",
     "text": [
      "Membuat direktori HDFS /user/raid/raw...\n",
      "✅ Berhasil dalam 5.90 detik\n",
      "Mengatur permission HDFS ke 777...\n",
      "✅ Berhasil dalam 1.30 detik\n",
      "Verifikasi struktur direktori...\n",
      "Output:\n",
      " Found 1 items\n",
      "drwxrwxrwx   - root supergroup          0 2025-10-20 07:02 /user/raid/raw\n",
      "\n"
     ]
    }
   ],
   "source": [
    "try:\n",
    "    # 1. Buat direktori /user/raid/raw\n",
    "    print(\"Membuat direktori HDFS /user/raid/raw...\")\n",
    "    result, duration = measure_time(\n",
    "        run_command,\n",
    "        \"docker exec namenode hdfs dfs -mkdir -p /user/raid/raw\"\n",
    "    )\n",
    "    print(f\"✅ Berhasil dalam {duration:.2f} detik\")\n",
    "\n",
    "    # 2. Set permission ke 777 (read/write/execute untuk semua)\n",
    "    print(\"Mengatur permission HDFS ke 777...\")\n",
    "    result, duration = measure_time(\n",
    "        run_command,\n",
    "        \"docker exec namenode hdfs dfs -chmod -R 777 /user/raid\"\n",
    "    )\n",
    "    print(f\"✅ Berhasil dalam {duration:.2f} detik\")\n",
    "\n",
    "    # 3. Verifikasi\n",
    "    print(\"Verifikasi struktur direktori...\")\n",
    "    result, duration = measure_time(\n",
    "        run_command,\n",
    "        \"docker exec namenode hdfs dfs -ls /user/raid\"\n",
    "    )\n",
    "    print(\"Output:\\n\", result.stdout)\n",
    "\n",
    "except subprocess.CalledProcessError as e:\n",
    "    print(\"❌ Error saat menjalankan perintah:\")\n",
    "    print(\"Stderr:\", e.stderr)\n",
    "    print(\"Return code:\", e.returncode)\n",
    "except subprocess.TimeoutExpired:\n",
    "    print(\"❌ Timeout saat menjalankan perintah\")\n",
    "except Exception as e:\n",
    "    print(\"❌ Error tak terduga:\", str(e))"
   ]
  },
  {
   "cell_type": "code",
   "execution_count": null,
   "id": "69beb255-d968-4260-85a5-4d75e47f9005",
   "metadata": {},
   "outputs": [],
   "source": []
  }
 ],
 "metadata": {
  "kernelspec": {
   "display_name": "Python 3 (ipykernel)",
   "language": "python",
   "name": "python3"
  },
  "language_info": {
   "codemirror_mode": {
    "name": "ipython",
    "version": 3
   },
   "file_extension": ".py",
   "mimetype": "text/x-python",
   "name": "python",
   "nbconvert_exporter": "python",
   "pygments_lexer": "ipython3",
   "version": "3.11.6"
  }
 },
 "nbformat": 4,
 "nbformat_minor": 5
}
