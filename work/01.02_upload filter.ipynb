{
 "cells": [
  {
   "cell_type": "code",
   "execution_count": 1,
   "id": "b902e3ef-b2da-41bf-9d57-168b27cbb24b",
   "metadata": {},
   "outputs": [
    {
     "data": {
      "text/plain": [
       "(<function __main__.measure_time(func, *args, **kwargs)>,\n",
       " <function __main__.run_command(cmd: str, capture_output: bool = True, timeout: int = None)>)"
      ]
     },
     "execution_count": 1,
     "metadata": {},
     "output_type": "execute_result"
    }
   ],
   "source": [
    "import subprocess\n",
    "import time\n",
    "import os\n",
    "from pathlib import Path\n",
    "\n",
    "def measure_time(func, *args, **kwargs):\n",
    "    start = time.perf_counter()\n",
    "    result = func(*args, **kwargs)\n",
    "    end = time.perf_counter()\n",
    "    return result, end - start\n",
    "\n",
    "def run_command(cmd: str, capture_output: bool = True, timeout: int = None):\n",
    "    result = subprocess.run(\n",
    "        cmd,\n",
    "        shell=True,\n",
    "        capture_output=capture_output,\n",
    "        text=True,\n",
    "        timeout=timeout,\n",
    "        check=True\n",
    "    )\n",
    "    return result\n",
    "\n",
    "measure_time, run_command"
   ]
  },
  {
   "cell_type": "code",
   "execution_count": 2,
   "id": "e77c7d7e-49eb-4533-8f95-722bfe8c002d",
   "metadata": {},
   "outputs": [
    {
     "name": "stdout",
     "output_type": "stream",
     "text": [
      "Membuat direktori HDFS /user/raid/filtered/ ...\n",
      "✅ Direktori dibuat dalam 1.4650 detik\n"
     ]
    }
   ],
   "source": [
    "# 1. Buat direktori HDFS tujuan\n",
    "print(\"Membuat direktori HDFS /user/raid/filtered/ ...\")\n",
    "try:\n",
    "    _, t = measure_time(\n",
    "        run_command,\n",
    "        \"docker exec namenode hdfs dfs -mkdir -p /user/raid/filtered\"\n",
    "    )\n",
    "    print(f\"✅ Direktori dibuat dalam {t:.4f} detik\")\n",
    "except subprocess.CalledProcessError as e:\n",
    "    if \"File exists\" in e.stderr:\n",
    "        print(\"✅ Direktori sudah ada, lanjut...\")\n",
    "    else:\n",
    "        raise e"
   ]
  },
  {
   "cell_type": "code",
   "execution_count": 3,
   "id": "a8032187-7bab-416f-a0ac-f155e03dca2b",
   "metadata": {},
   "outputs": [
    {
     "name": "stdout",
     "output_type": "stream",
     "text": [
      "Mengatur permission HDFS ke 777 ...\n",
      "✅ Permission diatur dalam 1.4521 detik\n"
     ]
    }
   ],
   "source": [
    "# 2. Set permission (opsional, tapi memastikan writeable)\n",
    "print(\"Mengatur permission HDFS ke 777 ...\")\n",
    "_, t = measure_time(\n",
    "    run_command,\n",
    "    \"docker exec namenode hdfs dfs -chmod -R 777 /user/raid/filtered\"\n",
    ")\n",
    "print(f\"✅ Permission diatur dalam {t:.4f} detik\")"
   ]
  },
  {
   "cell_type": "code",
   "execution_count": null,
   "id": "aed39302-f450-46d2-aad8-564e339461ce",
   "metadata": {},
   "outputs": [
    {
     "name": "stdout",
     "output_type": "stream",
     "text": [
      "Mengunggah file dari dataset/splits-filtered ke HDFS /user/raid/filtered ...\n",
      "✅ Ditemukan 75 file .jsonl\n",
      "  ✅ [1/75] raid-filtered_001.jsonl → 9.6460 detik\n",
      "  ✅ [2/75] raid-filtered_002.jsonl → 8.1587 detik\n",
      "  ✅ [3/75] raid-filtered_003.jsonl → 11.1075 detik\n",
      "  ✅ [4/75] raid-filtered_004.jsonl → 11.3814 detik\n",
      "  ✅ [5/75] raid-filtered_005.jsonl → 9.4786 detik\n",
      "  ✅ [6/75] raid-filtered_006.jsonl → 11.4125 detik\n",
      "  ✅ [7/75] raid-filtered_007.jsonl → 10.3703 detik\n",
      "  ✅ [8/75] raid-filtered_008.jsonl → 10.0139 detik\n",
      "  ✅ [9/75] raid-filtered_009.jsonl → 11.3985 detik\n",
      "  ✅ [10/75] raid-filtered_010.jsonl → 15.8226 detik\n",
      "  ✅ [11/75] raid-filtered_011.jsonl → 12.3888 detik\n",
      "  ✅ [12/75] raid-filtered_012.jsonl → 11.8548 detik\n",
      "  ✅ [13/75] raid-filtered_013.jsonl → 10.5681 detik\n",
      "  ✅ [14/75] raid-filtered_014.jsonl → 11.6166 detik\n",
      "  ✅ [15/75] raid-filtered_015.jsonl → 11.1436 detik\n",
      "  ✅ [16/75] raid-filtered_016.jsonl → 13.7221 detik\n",
      "  ✅ [17/75] raid-filtered_017.jsonl → 10.7844 detik\n",
      "  ✅ [18/75] raid-filtered_018.jsonl → 11.6952 detik\n",
      "  ✅ [19/75] raid-filtered_019.jsonl → 15.4591 detik\n",
      "  ✅ [20/75] raid-filtered_020.jsonl → 11.3055 detik\n",
      "  ✅ [21/75] raid-filtered_021.jsonl → 11.9300 detik\n",
      "  ✅ [22/75] raid-filtered_022.jsonl → 13.9895 detik\n",
      "  ✅ [23/75] raid-filtered_023.jsonl → 10.4964 detik\n",
      "  ✅ [24/75] raid-filtered_024.jsonl → 11.2693 detik\n",
      "  ✅ [25/75] raid-filtered_025.jsonl → 12.7694 detik\n",
      "  ✅ [26/75] raid-filtered_026.jsonl → 13.1811 detik\n",
      "  ✅ [27/75] raid-filtered_027.jsonl → 12.3422 detik\n",
      "  ✅ [28/75] raid-filtered_028.jsonl → 9.8974 detik\n",
      "  ✅ [29/75] raid-filtered_029.jsonl → 9.3774 detik\n",
      "  ✅ [30/75] raid-filtered_030.jsonl → 10.6677 detik\n",
      "  ✅ [31/75] raid-filtered_031.jsonl → 11.1000 detik\n",
      "  ✅ [32/75] raid-filtered_032.jsonl → 12.3363 detik\n",
      "  ✅ [33/75] raid-filtered_033.jsonl → 10.9439 detik\n",
      "  ✅ [34/75] raid-filtered_034.jsonl → 10.8095 detik\n",
      "  ✅ [35/75] raid-filtered_035.jsonl → 9.3392 detik\n"
     ]
    }
   ],
   "source": [
    "# 3. Upload semua file .jsonl dari splits-filtered/\n",
    "local_filtered_dir = \"dataset/splits-filtered\"\n",
    "hdfs_target = \"/user/raid/filtered\"\n",
    "\n",
    "print(f\"Mengunggah file dari {local_filtered_dir} ke HDFS {hdfs_target} ...\")\n",
    "\n",
    "jsonl_files = sorted([f for f in os.listdir(local_filtered_dir) if f.endswith(\".jsonl\")])\n",
    "print(f\"✅ Ditemukan {len(jsonl_files)} file .jsonl\")\n",
    "\n",
    "total_uploaded = 0\n",
    "for filename in jsonl_files:\n",
    "    local_path = os.path.join(local_filtered_dir, filename)\n",
    "    cmd = f\"docker cp {local_path} namenode:/tmp/{filename} && \" \\\n",
    "          f\"docker exec namenode hdfs dfs -put /tmp/{filename} {hdfs_target}/ && \" \\\n",
    "          f\"docker exec namenode rm /tmp/{filename}\"\n",
    "    \n",
    "    _, t = measure_time(run_command, cmd)\n",
    "    total_uploaded += 1\n",
    "    print(f\"  ✅ [{total_uploaded}/{len(jsonl_files)}] {filename} → {t:.4f} detik\")\n",
    "\n",
    "print(f\"\\n🎉 Selesai! Total {total_uploaded} file berhasil diunggah ke HDFS.\")"
   ]
  },
  {
   "cell_type": "code",
   "execution_count": null,
   "id": "2ac29c37-8737-4463-b082-67839f595b11",
   "metadata": {},
   "outputs": [],
   "source": []
  }
 ],
 "metadata": {
  "kernelspec": {
   "display_name": "Python 3 (ipykernel)",
   "language": "python",
   "name": "python3"
  },
  "language_info": {
   "codemirror_mode": {
    "name": "ipython",
    "version": 3
   },
   "file_extension": ".py",
   "mimetype": "text/x-python",
   "name": "python",
   "nbconvert_exporter": "python",
   "pygments_lexer": "ipython3",
   "version": "3.10.6"
  }
 },
 "nbformat": 4,
 "nbformat_minor": 5
}
