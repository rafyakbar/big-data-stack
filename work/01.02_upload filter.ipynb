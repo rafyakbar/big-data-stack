{
 "cells": [
  {
   "cell_type": "code",
   "execution_count": 3,
   "id": "b902e3ef-b2da-41bf-9d57-168b27cbb24b",
   "metadata": {},
   "outputs": [
    {
     "data": {
      "text/plain": [
       "(<function __main__.measure_time(func, *args, **kwargs)>,\n",
       " <function __main__.run_command(cmd: str, capture_output: bool = True, timeout: int = None)>)"
      ]
     },
     "execution_count": 3,
     "metadata": {},
     "output_type": "execute_result"
    }
   ],
   "source": [
    "import subprocess\n",
    "import time\n",
    "import os\n",
    "from pathlib import Path\n",
    "\n",
    "def measure_time(func, *args, **kwargs):\n",
    "    start = time.perf_counter()\n",
    "    result = func(*args, **kwargs)\n",
    "    end = time.perf_counter()\n",
    "    return result, end - start\n",
    "\n",
    "def run_command(cmd: str, capture_output: bool = True, timeout: int = None):\n",
    "    result = subprocess.run(\n",
    "        cmd,\n",
    "        shell=True,\n",
    "        capture_output=capture_output,\n",
    "        text=True,\n",
    "        timeout=timeout,\n",
    "        check=True\n",
    "    )\n",
    "    return result\n",
    "\n",
    "measure_time, run_command"
   ]
  },
  {
   "cell_type": "code",
   "execution_count": 4,
   "id": "e77c7d7e-49eb-4533-8f95-722bfe8c002d",
   "metadata": {},
   "outputs": [
    {
     "name": "stdout",
     "output_type": "stream",
     "text": [
      "Membuat direktori HDFS /user/raid/filtered_minilm/ ...\n",
      "✅ Direktori dibuat dalam 1.4042 detik\n"
     ]
    }
   ],
   "source": [
    "# 1. Buat direktori HDFS tujuan\n",
    "print(\"Membuat direktori HDFS /user/raid/filtered_minilm/ ...\")\n",
    "try:\n",
    "    _, t = measure_time(\n",
    "        run_command,\n",
    "        \"docker exec namenode hdfs dfs -mkdir -p /user/raid/filtered_minilm\"\n",
    "    )\n",
    "    print(f\"✅ Direktori dibuat dalam {t:.4f} detik\")\n",
    "except subprocess.CalledProcessError as e:\n",
    "    if \"File exists\" in e.stderr:\n",
    "        print(\"✅ Direktori sudah ada, lanjut...\")\n",
    "    else:\n",
    "        raise e"
   ]
  },
  {
   "cell_type": "code",
   "execution_count": 5,
   "id": "a8032187-7bab-416f-a0ac-f155e03dca2b",
   "metadata": {},
   "outputs": [
    {
     "name": "stdout",
     "output_type": "stream",
     "text": [
      "Mengatur permission HDFS ke 777 ...\n",
      "✅ Permission diatur dalam 1.4023 detik\n"
     ]
    }
   ],
   "source": [
    "# 2. Set permission (opsional, tapi memastikan writeable)\n",
    "print(\"Mengatur permission HDFS ke 777 ...\")\n",
    "_, t = measure_time(\n",
    "    run_command,\n",
    "    \"docker exec namenode hdfs dfs -chmod -R 777 /user/raid/filtered_minilm\"\n",
    ")\n",
    "print(f\"✅ Permission diatur dalam {t:.4f} detik\")"
   ]
  },
  {
   "cell_type": "code",
   "execution_count": 6,
   "id": "aed39302-f450-46d2-aad8-564e339461ce",
   "metadata": {},
   "outputs": [
    {
     "name": "stdout",
     "output_type": "stream",
     "text": [
      "Mengunggah file dari dataset/splits-filtered ke HDFS /user/raid/filtered_minilm ...\n",
      "✅ Ditemukan 75 file .jsonl\n",
      "  ✅ [1/75] raid-filtered_001.jsonl → 8.9658 detik\n",
      "  ✅ [2/75] raid-filtered_002.jsonl → 9.2780 detik\n",
      "  ✅ [3/75] raid-filtered_003.jsonl → 8.2261 detik\n",
      "  ✅ [4/75] raid-filtered_004.jsonl → 8.6701 detik\n",
      "  ✅ [5/75] raid-filtered_005.jsonl → 8.3184 detik\n",
      "  ✅ [6/75] raid-filtered_006.jsonl → 8.1006 detik\n",
      "  ✅ [7/75] raid-filtered_007.jsonl → 8.6044 detik\n",
      "  ✅ [8/75] raid-filtered_008.jsonl → 7.8836 detik\n",
      "  ✅ [9/75] raid-filtered_009.jsonl → 8.0152 detik\n",
      "  ✅ [10/75] raid-filtered_010.jsonl → 8.4851 detik\n",
      "  ✅ [11/75] raid-filtered_011.jsonl → 9.1759 detik\n",
      "  ✅ [12/75] raid-filtered_012.jsonl → 8.8187 detik\n",
      "  ✅ [13/75] raid-filtered_013.jsonl → 8.1043 detik\n",
      "  ✅ [14/75] raid-filtered_014.jsonl → 8.5427 detik\n",
      "  ✅ [15/75] raid-filtered_015.jsonl → 8.4712 detik\n",
      "  ✅ [16/75] raid-filtered_016.jsonl → 8.1092 detik\n",
      "  ✅ [17/75] raid-filtered_017.jsonl → 8.0886 detik\n",
      "  ✅ [18/75] raid-filtered_018.jsonl → 8.3552 detik\n",
      "  ✅ [19/75] raid-filtered_019.jsonl → 8.8293 detik\n",
      "  ✅ [20/75] raid-filtered_020.jsonl → 8.0116 detik\n",
      "  ✅ [21/75] raid-filtered_021.jsonl → 8.9408 detik\n",
      "  ✅ [22/75] raid-filtered_022.jsonl → 8.5006 detik\n",
      "  ✅ [23/75] raid-filtered_023.jsonl → 7.8795 detik\n",
      "  ✅ [24/75] raid-filtered_024.jsonl → 8.1928 detik\n",
      "  ✅ [25/75] raid-filtered_025.jsonl → 7.8911 detik\n",
      "  ✅ [26/75] raid-filtered_026.jsonl → 7.7238 detik\n",
      "  ✅ [27/75] raid-filtered_027.jsonl → 8.0841 detik\n",
      "  ✅ [28/75] raid-filtered_028.jsonl → 8.3578 detik\n",
      "  ✅ [29/75] raid-filtered_029.jsonl → 8.2287 detik\n",
      "  ✅ [30/75] raid-filtered_030.jsonl → 8.3772 detik\n",
      "  ✅ [31/75] raid-filtered_031.jsonl → 8.0052 detik\n",
      "  ✅ [32/75] raid-filtered_032.jsonl → 8.5862 detik\n",
      "  ✅ [33/75] raid-filtered_033.jsonl → 8.1158 detik\n",
      "  ✅ [34/75] raid-filtered_034.jsonl → 8.4561 detik\n",
      "  ✅ [35/75] raid-filtered_035.jsonl → 8.5113 detik\n",
      "  ✅ [36/75] raid-filtered_036.jsonl → 8.0839 detik\n",
      "  ✅ [37/75] raid-filtered_037.jsonl → 8.3717 detik\n",
      "  ✅ [38/75] raid-filtered_038.jsonl → 7.7299 detik\n",
      "  ✅ [39/75] raid-filtered_039.jsonl → 7.7641 detik\n",
      "  ✅ [40/75] raid-filtered_040.jsonl → 7.9255 detik\n",
      "  ✅ [41/75] raid-filtered_041.jsonl → 8.8818 detik\n",
      "  ✅ [42/75] raid-filtered_042.jsonl → 8.2527 detik\n",
      "  ✅ [43/75] raid-filtered_043.jsonl → 8.0828 detik\n",
      "  ✅ [44/75] raid-filtered_044.jsonl → 8.3877 detik\n",
      "  ✅ [45/75] raid-filtered_045.jsonl → 8.5876 detik\n",
      "  ✅ [46/75] raid-filtered_046.jsonl → 7.5176 detik\n",
      "  ✅ [47/75] raid-filtered_047.jsonl → 8.1077 detik\n",
      "  ✅ [48/75] raid-filtered_048.jsonl → 7.4151 detik\n",
      "  ✅ [49/75] raid-filtered_049.jsonl → 7.8098 detik\n",
      "  ✅ [50/75] raid-filtered_050.jsonl → 8.5963 detik\n",
      "  ✅ [51/75] raid-filtered_051.jsonl → 7.9187 detik\n",
      "  ✅ [52/75] raid-filtered_052.jsonl → 8.3570 detik\n",
      "  ✅ [53/75] raid-filtered_053.jsonl → 8.9452 detik\n",
      "  ✅ [54/75] raid-filtered_054.jsonl → 8.6606 detik\n",
      "  ✅ [55/75] raid-filtered_055.jsonl → 8.1238 detik\n",
      "  ✅ [56/75] raid-filtered_056.jsonl → 8.2787 detik\n",
      "  ✅ [57/75] raid-filtered_057.jsonl → 8.6599 detik\n",
      "  ✅ [58/75] raid-filtered_058.jsonl → 8.7508 detik\n",
      "  ✅ [59/75] raid-filtered_059.jsonl → 8.5810 detik\n",
      "  ✅ [60/75] raid-filtered_060.jsonl → 8.6179 detik\n",
      "  ✅ [61/75] raid-filtered_061.jsonl → 8.8430 detik\n",
      "  ✅ [62/75] raid-filtered_062.jsonl → 9.3970 detik\n",
      "  ✅ [63/75] raid-filtered_063.jsonl → 8.5380 detik\n",
      "  ✅ [64/75] raid-filtered_064.jsonl → 8.5826 detik\n",
      "  ✅ [65/75] raid-filtered_065.jsonl → 8.9700 detik\n",
      "  ✅ [66/75] raid-filtered_066.jsonl → 8.6492 detik\n",
      "  ✅ [67/75] raid-filtered_067.jsonl → 8.8450 detik\n",
      "  ✅ [68/75] raid-filtered_068.jsonl → 8.8490 detik\n",
      "  ✅ [69/75] raid-filtered_069.jsonl → 9.0890 detik\n",
      "  ✅ [70/75] raid-filtered_070.jsonl → 8.1531 detik\n",
      "  ✅ [71/75] raid-filtered_071.jsonl → 9.1796 detik\n",
      "  ✅ [72/75] raid-filtered_072.jsonl → 8.0285 detik\n",
      "  ✅ [73/75] raid-filtered_073.jsonl → 9.0639 detik\n",
      "  ✅ [74/75] raid-filtered_074.jsonl → 8.9452 detik\n",
      "  ✅ [75/75] raid-filtered_075.jsonl → 8.1570 detik\n",
      "\n",
      "🎉 Selesai! Total 75 file berhasil diunggah ke HDFS.\n"
     ]
    }
   ],
   "source": [
    "# 3. Upload semua file .jsonl dari splits-filtered/\n",
    "local_filtered_dir = \"dataset/splits-filtered\"\n",
    "hdfs_target = \"/user/raid/filtered_minilm\"\n",
    "\n",
    "print(f\"Mengunggah file dari {local_filtered_dir} ke HDFS {hdfs_target} ...\")\n",
    "\n",
    "jsonl_files = sorted([f for f in os.listdir(local_filtered_dir) if f.endswith(\".jsonl\")])\n",
    "print(f\"✅ Ditemukan {len(jsonl_files)} file .jsonl\")\n",
    "\n",
    "total_uploaded = 0\n",
    "for filename in jsonl_files:\n",
    "    local_path = os.path.join(local_filtered_dir, filename)\n",
    "    cmd = f\"docker cp {local_path} namenode:/tmp/{filename} && \" \\\n",
    "          f\"docker exec namenode hdfs dfs -put /tmp/{filename} {hdfs_target}/ && \" \\\n",
    "          f\"docker exec namenode rm /tmp/{filename}\"\n",
    "    \n",
    "    _, t = measure_time(run_command, cmd)\n",
    "    total_uploaded += 1\n",
    "    print(f\"  ✅ [{total_uploaded}/{len(jsonl_files)}] {filename} → {t:.4f} detik\")\n",
    "\n",
    "print(f\"\\n🎉 Selesai! Total {total_uploaded} file berhasil diunggah ke HDFS.\")"
   ]
  },
  {
   "cell_type": "code",
   "execution_count": null,
   "id": "2ac29c37-8737-4463-b082-67839f595b11",
   "metadata": {},
   "outputs": [],
   "source": []
  }
 ],
 "metadata": {
  "kernelspec": {
   "display_name": "Python 3 (ipykernel)",
   "language": "python",
   "name": "python3"
  },
  "language_info": {
   "codemirror_mode": {
    "name": "ipython",
    "version": 3
   },
   "file_extension": ".py",
   "mimetype": "text/x-python",
   "name": "python",
   "nbconvert_exporter": "python",
   "pygments_lexer": "ipython3",
   "version": "3.10.6"
  }
 },
 "nbformat": 4,
 "nbformat_minor": 5
}
