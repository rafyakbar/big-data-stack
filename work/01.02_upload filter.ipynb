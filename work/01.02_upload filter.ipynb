{
 "cells": [
  {
   "cell_type": "code",
   "execution_count": 1,
   "id": "b902e3ef-b2da-41bf-9d57-168b27cbb24b",
   "metadata": {},
   "outputs": [
    {
     "data": {
      "text/plain": [
       "(<function __main__.measure_time(func, *args, **kwargs)>,\n",
       " <function __main__.run_command(cmd: str, capture_output: bool = True, timeout: int = None)>)"
      ]
     },
     "execution_count": 1,
     "metadata": {},
     "output_type": "execute_result"
    }
   ],
   "source": [
    "import subprocess\n",
    "import time\n",
    "import os\n",
    "from pathlib import Path\n",
    "\n",
    "def measure_time(func, *args, **kwargs):\n",
    "    start = time.perf_counter()\n",
    "    result = func(*args, **kwargs)\n",
    "    end = time.perf_counter()\n",
    "    return result, end - start\n",
    "\n",
    "def run_command(cmd: str, capture_output: bool = True, timeout: int = None):\n",
    "    result = subprocess.run(\n",
    "        cmd,\n",
    "        shell=True,\n",
    "        capture_output=capture_output,\n",
    "        text=True,\n",
    "        timeout=timeout,\n",
    "        check=True\n",
    "    )\n",
    "    return result\n",
    "\n",
    "measure_time, run_command"
   ]
  },
  {
   "cell_type": "code",
   "execution_count": 2,
   "id": "e77c7d7e-49eb-4533-8f95-722bfe8c002d",
   "metadata": {},
   "outputs": [
    {
     "name": "stdout",
     "output_type": "stream",
     "text": [
      "Membuat direktori HDFS /user/raid/filtered_minilm/ ...\n",
      "✅ Direktori dibuat dalam 6.6583 detik\n"
     ]
    }
   ],
   "source": [
    "# 1. Buat direktori HDFS tujuan\n",
    "print(\"Membuat direktori HDFS /user/raid/filtered_minilm/ ...\")\n",
    "try:\n",
    "    _, t = measure_time(\n",
    "        run_command,\n",
    "        \"docker exec namenode hdfs dfs -mkdir -p /user/raid/filtered_minilm\"\n",
    "    )\n",
    "    print(f\"✅ Direktori dibuat dalam {t:.4f} detik\")\n",
    "except subprocess.CalledProcessError as e:\n",
    "    if \"File exists\" in e.stderr:\n",
    "        print(\"✅ Direktori sudah ada, lanjut...\")\n",
    "    else:\n",
    "        raise e"
   ]
  },
  {
   "cell_type": "code",
   "execution_count": 3,
   "id": "a8032187-7bab-416f-a0ac-f155e03dca2b",
   "metadata": {},
   "outputs": [
    {
     "name": "stdout",
     "output_type": "stream",
     "text": [
      "Mengatur permission HDFS ke 777 ...\n",
      "✅ Permission diatur dalam 1.2943 detik\n"
     ]
    }
   ],
   "source": [
    "# 2. Set permission (opsional, tapi memastikan writeable)\n",
    "print(\"Mengatur permission HDFS ke 777 ...\")\n",
    "_, t = measure_time(\n",
    "    run_command,\n",
    "    \"docker exec namenode hdfs dfs -chmod -R 777 /user/raid/filtered_minilm\"\n",
    ")\n",
    "print(f\"✅ Permission diatur dalam {t:.4f} detik\")"
   ]
  },
  {
   "cell_type": "code",
   "execution_count": 4,
   "id": "aed39302-f450-46d2-aad8-564e339461ce",
   "metadata": {},
   "outputs": [
    {
     "name": "stdout",
     "output_type": "stream",
     "text": [
      "Mengunggah file dari dataset/splits-filtered ke HDFS /user/raid/filtered_minilm ...\n",
      "✅ Ditemukan 75 file .jsonl\n",
      "  ✅ [1/75] raid-filtered_001.jsonl → 13.0967 detik\n",
      "  ✅ [2/75] raid-filtered_002.jsonl → 9.0730 detik\n",
      "  ✅ [3/75] raid-filtered_003.jsonl → 9.2157 detik\n",
      "  ✅ [4/75] raid-filtered_004.jsonl → 10.4035 detik\n",
      "  ✅ [5/75] raid-filtered_005.jsonl → 12.1054 detik\n",
      "  ✅ [6/75] raid-filtered_006.jsonl → 10.6915 detik\n",
      "  ✅ [7/75] raid-filtered_007.jsonl → 13.6525 detik\n",
      "  ✅ [8/75] raid-filtered_008.jsonl → 12.8046 detik\n",
      "  ✅ [9/75] raid-filtered_009.jsonl → 9.7024 detik\n",
      "  ✅ [10/75] raid-filtered_010.jsonl → 9.7992 detik\n",
      "  ✅ [11/75] raid-filtered_011.jsonl → 11.0970 detik\n",
      "  ✅ [12/75] raid-filtered_012.jsonl → 10.5962 detik\n",
      "  ✅ [13/75] raid-filtered_013.jsonl → 13.7973 detik\n",
      "  ✅ [14/75] raid-filtered_014.jsonl → 10.9871 detik\n",
      "  ✅ [15/75] raid-filtered_015.jsonl → 8.9579 detik\n",
      "  ✅ [16/75] raid-filtered_016.jsonl → 11.8286 detik\n",
      "  ✅ [17/75] raid-filtered_017.jsonl → 12.1369 detik\n",
      "  ✅ [18/75] raid-filtered_018.jsonl → 13.0117 detik\n",
      "  ✅ [19/75] raid-filtered_019.jsonl → 11.7825 detik\n",
      "  ✅ [20/75] raid-filtered_020.jsonl → 10.5355 detik\n",
      "  ✅ [21/75] raid-filtered_021.jsonl → 13.8787 detik\n",
      "  ✅ [22/75] raid-filtered_022.jsonl → 11.3311 detik\n",
      "  ✅ [23/75] raid-filtered_023.jsonl → 12.6110 detik\n",
      "  ✅ [24/75] raid-filtered_024.jsonl → 13.8524 detik\n",
      "  ✅ [25/75] raid-filtered_025.jsonl → 11.2269 detik\n",
      "  ✅ [26/75] raid-filtered_026.jsonl → 10.3358 detik\n",
      "  ✅ [27/75] raid-filtered_027.jsonl → 9.2443 detik\n",
      "  ✅ [28/75] raid-filtered_028.jsonl → 10.4554 detik\n",
      "  ✅ [29/75] raid-filtered_029.jsonl → 10.8792 detik\n",
      "  ✅ [30/75] raid-filtered_030.jsonl → 12.1252 detik\n",
      "  ✅ [31/75] raid-filtered_031.jsonl → 10.5108 detik\n",
      "  ✅ [32/75] raid-filtered_032.jsonl → 9.5475 detik\n",
      "  ✅ [33/75] raid-filtered_033.jsonl → 11.0125 detik\n",
      "  ✅ [34/75] raid-filtered_034.jsonl → 9.5700 detik\n",
      "  ✅ [35/75] raid-filtered_035.jsonl → 12.4222 detik\n",
      "  ✅ [36/75] raid-filtered_036.jsonl → 9.6233 detik\n",
      "  ✅ [37/75] raid-filtered_037.jsonl → 11.4629 detik\n",
      "  ✅ [38/75] raid-filtered_038.jsonl → 10.8002 detik\n",
      "  ✅ [39/75] raid-filtered_039.jsonl → 9.8961 detik\n",
      "  ✅ [40/75] raid-filtered_040.jsonl → 12.5415 detik\n",
      "  ✅ [41/75] raid-filtered_041.jsonl → 11.4343 detik\n",
      "  ✅ [42/75] raid-filtered_042.jsonl → 10.0303 detik\n",
      "  ✅ [43/75] raid-filtered_043.jsonl → 10.9166 detik\n",
      "  ✅ [44/75] raid-filtered_044.jsonl → 11.0883 detik\n",
      "  ✅ [45/75] raid-filtered_045.jsonl → 10.5890 detik\n",
      "  ✅ [46/75] raid-filtered_046.jsonl → 9.5750 detik\n",
      "  ✅ [47/75] raid-filtered_047.jsonl → 11.8977 detik\n",
      "  ✅ [48/75] raid-filtered_048.jsonl → 10.1949 detik\n",
      "  ✅ [49/75] raid-filtered_049.jsonl → 9.2379 detik\n",
      "  ✅ [50/75] raid-filtered_050.jsonl → 9.7394 detik\n",
      "  ✅ [51/75] raid-filtered_051.jsonl → 9.8883 detik\n",
      "  ✅ [52/75] raid-filtered_052.jsonl → 13.2495 detik\n",
      "  ✅ [53/75] raid-filtered_053.jsonl → 10.5790 detik\n",
      "  ✅ [54/75] raid-filtered_054.jsonl → 12.7418 detik\n",
      "  ✅ [55/75] raid-filtered_055.jsonl → 8.4441 detik\n",
      "  ✅ [56/75] raid-filtered_056.jsonl → 9.3135 detik\n",
      "  ✅ [57/75] raid-filtered_057.jsonl → 11.7783 detik\n",
      "  ✅ [58/75] raid-filtered_058.jsonl → 8.8310 detik\n",
      "  ✅ [59/75] raid-filtered_059.jsonl → 10.7254 detik\n",
      "  ✅ [60/75] raid-filtered_060.jsonl → 10.4783 detik\n",
      "  ✅ [61/75] raid-filtered_061.jsonl → 10.8654 detik\n",
      "  ✅ [62/75] raid-filtered_062.jsonl → 11.1344 detik\n",
      "  ✅ [63/75] raid-filtered_063.jsonl → 11.9525 detik\n",
      "  ✅ [64/75] raid-filtered_064.jsonl → 9.5211 detik\n",
      "  ✅ [65/75] raid-filtered_065.jsonl → 10.6371 detik\n",
      "  ✅ [66/75] raid-filtered_066.jsonl → 18.3644 detik\n",
      "  ✅ [67/75] raid-filtered_067.jsonl → 13.5355 detik\n",
      "  ✅ [68/75] raid-filtered_068.jsonl → 12.6923 detik\n",
      "  ✅ [69/75] raid-filtered_069.jsonl → 16.7548 detik\n",
      "  ✅ [70/75] raid-filtered_070.jsonl → 12.4563 detik\n",
      "  ✅ [71/75] raid-filtered_071.jsonl → 11.1417 detik\n",
      "  ✅ [72/75] raid-filtered_072.jsonl → 11.5377 detik\n",
      "  ✅ [73/75] raid-filtered_073.jsonl → 10.5172 detik\n",
      "  ✅ [74/75] raid-filtered_074.jsonl → 12.0094 detik\n",
      "  ✅ [75/75] raid-filtered_075.jsonl → 9.4861 detik\n",
      "\n",
      "🎉 Selesai! Total 75 file berhasil diunggah ke HDFS.\n"
     ]
    }
   ],
   "source": [
    "# 3. Upload semua file .jsonl dari splits-filtered/\n",
    "local_filtered_dir = \"dataset/splits-filtered\"\n",
    "hdfs_target = \"/user/raid/filtered_minilm\"\n",
    "\n",
    "print(f\"Mengunggah file dari {local_filtered_dir} ke HDFS {hdfs_target} ...\")\n",
    "\n",
    "jsonl_files = sorted([f for f in os.listdir(local_filtered_dir) if f.endswith(\".jsonl\")])\n",
    "print(f\"✅ Ditemukan {len(jsonl_files)} file .jsonl\")\n",
    "\n",
    "total_uploaded = 0\n",
    "for filename in jsonl_files:\n",
    "    local_path = os.path.join(local_filtered_dir, filename)\n",
    "    cmd = f\"docker cp {local_path} namenode:/tmp/{filename} && \" \\\n",
    "          f\"docker exec namenode hdfs dfs -put /tmp/{filename} {hdfs_target}/ && \" \\\n",
    "          f\"docker exec namenode rm /tmp/{filename}\"\n",
    "    \n",
    "    _, t = measure_time(run_command, cmd)\n",
    "    total_uploaded += 1\n",
    "    print(f\"  ✅ [{total_uploaded}/{len(jsonl_files)}] {filename} → {t:.4f} detik\")\n",
    "\n",
    "print(f\"\\n🎉 Selesai! Total {total_uploaded} file berhasil diunggah ke HDFS.\")"
   ]
  },
  {
   "cell_type": "code",
   "execution_count": null,
   "id": "2ac29c37-8737-4463-b082-67839f595b11",
   "metadata": {},
   "outputs": [],
   "source": []
  }
 ],
 "metadata": {
  "kernelspec": {
   "display_name": "Python 3 (ipykernel)",
   "language": "python",
   "name": "python3"
  },
  "language_info": {
   "codemirror_mode": {
    "name": "ipython",
    "version": 3
   },
   "file_extension": ".py",
   "mimetype": "text/x-python",
   "name": "python",
   "nbconvert_exporter": "python",
   "pygments_lexer": "ipython3",
   "version": "3.10.6"
  }
 },
 "nbformat": 4,
 "nbformat_minor": 5
}
