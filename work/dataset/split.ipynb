{
 "cells": [
  {
   "cell_type": "code",
   "execution_count": 1,
   "id": "54810bb6-31d5-4eb9-96e0-1c9fd6592c26",
   "metadata": {},
   "outputs": [
    {
     "name": "stdout",
     "output_type": "stream",
     "text": [
      "File splits/raid_001.jsonl selesai disimpan.\n",
      "File splits/raid_002.jsonl selesai disimpan.\n",
      "File splits/raid_003.jsonl selesai disimpan.\n",
      "File splits/raid_004.jsonl selesai disimpan.\n",
      "File splits/raid_005.jsonl selesai disimpan.\n",
      "File splits/raid_006.jsonl selesai disimpan.\n",
      "File splits/raid_007.jsonl selesai disimpan.\n",
      "File splits/raid_008.jsonl selesai disimpan.\n",
      "File splits/raid_009.jsonl selesai disimpan.\n",
      "File splits/raid_010.jsonl selesai disimpan.\n",
      "File splits/raid_011.jsonl selesai disimpan.\n",
      "File splits/raid_012.jsonl selesai disimpan.\n",
      "File splits/raid_013.jsonl selesai disimpan.\n",
      "File splits/raid_014.jsonl selesai disimpan.\n",
      "File splits/raid_015.jsonl selesai disimpan.\n",
      "File splits/raid_016.jsonl selesai disimpan.\n",
      "File splits/raid_017.jsonl selesai disimpan.\n",
      "File splits/raid_018.jsonl selesai disimpan.\n",
      "File splits/raid_019.jsonl selesai disimpan.\n",
      "File splits/raid_020.jsonl selesai disimpan.\n",
      "File splits/raid_021.jsonl selesai disimpan.\n",
      "File splits/raid_022.jsonl selesai disimpan.\n",
      "File splits/raid_023.jsonl selesai disimpan.\n",
      "File splits/raid_024.jsonl selesai disimpan.\n",
      "File splits/raid_025.jsonl selesai disimpan.\n",
      "File splits/raid_026.jsonl selesai disimpan.\n",
      "File splits/raid_027.jsonl selesai disimpan.\n",
      "File splits/raid_028.jsonl selesai disimpan.\n",
      "File splits/raid_029.jsonl selesai disimpan.\n",
      "File splits/raid_030.jsonl selesai disimpan.\n",
      "File splits/raid_031.jsonl selesai disimpan.\n",
      "File splits/raid_032.jsonl selesai disimpan.\n",
      "File splits/raid_033.jsonl selesai disimpan.\n",
      "File splits/raid_034.jsonl selesai disimpan.\n",
      "File splits/raid_035.jsonl selesai disimpan.\n",
      "File splits/raid_036.jsonl selesai disimpan.\n",
      "File splits/raid_037.jsonl selesai disimpan.\n",
      "File splits/raid_038.jsonl selesai disimpan.\n",
      "File splits/raid_039.jsonl selesai disimpan.\n",
      "File splits/raid_040.jsonl selesai disimpan.\n",
      "File splits/raid_041.jsonl selesai disimpan.\n",
      "File splits/raid_042.jsonl selesai disimpan.\n",
      "File splits/raid_043.jsonl selesai disimpan.\n",
      "File splits/raid_044.jsonl selesai disimpan.\n",
      "File splits/raid_045.jsonl selesai disimpan.\n",
      "File splits/raid_046.jsonl selesai disimpan.\n",
      "File splits/raid_047.jsonl selesai disimpan.\n",
      "File splits/raid_048.jsonl selesai disimpan.\n",
      "File splits/raid_049.jsonl selesai disimpan.\n",
      "File splits/raid_050.jsonl selesai disimpan.\n",
      "File splits/raid_051.jsonl selesai disimpan.\n",
      "File splits/raid_052.jsonl selesai disimpan.\n",
      "File splits/raid_053.jsonl selesai disimpan.\n",
      "File splits/raid_054.jsonl selesai disimpan.\n",
      "File splits/raid_055.jsonl selesai disimpan.\n",
      "File splits/raid_056.jsonl selesai disimpan.\n",
      "File splits/raid_057.jsonl selesai disimpan.\n"
     ]
    }
   ],
   "source": [
    "import pandas as pd\n",
    "\n",
    "input_file = \"train.csv\"\n",
    "output_prefix = \"raid_\"\n",
    "chunk_size = 1_00_000 # jumlah baris per file\n",
    "\n",
    "for i, chunk in enumerate(pd.read_csv(input_file, chunksize=chunk_size)):\n",
    "    file_index = f\"{i+1:03d}\"\n",
    "    output_file = f\"splits/{output_prefix}{file_index}.jsonl\"\n",
    "    chunk.to_json(output_file, orient=\"records\", lines=True, force_ascii=False)\n",
    "    print(f\"File {output_file} selesai disimpan.\")"
   ]
  },
  {
   "cell_type": "code",
   "execution_count": null,
   "id": "59d49966-ab38-4aed-ab76-a723ed1541d7",
   "metadata": {},
   "outputs": [],
   "source": []
  }
 ],
 "metadata": {
  "kernelspec": {
   "display_name": "Python 3 (ipykernel)",
   "language": "python",
   "name": "python3"
  },
  "language_info": {
   "codemirror_mode": {
    "name": "ipython",
    "version": 3
   },
   "file_extension": ".py",
   "mimetype": "text/x-python",
   "name": "python",
   "nbconvert_exporter": "python",
   "pygments_lexer": "ipython3",
   "version": "3.11.6"
  }
 },
 "nbformat": 4,
 "nbformat_minor": 5
}
