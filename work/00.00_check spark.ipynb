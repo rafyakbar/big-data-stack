{
 "cells": [
  {
   "cell_type": "code",
   "execution_count": 1,
   "id": "8de922f0-cbf4-4539-b797-78695b1364a2",
   "metadata": {},
   "outputs": [
    {
     "name": "stdout",
     "output_type": "stream",
     "text": [
      "Spark Version: 3.5.0\n",
      "Spark Master URL: spark://spark-master:7077\n",
      "Deploy Mode: client\n",
      "✅ Berhasil terhubung ke HDFS!\n",
      "Isi root HDFS:\n",
      " - file:/tmp\n",
      " - file:/libx32\n",
      " - file:/bin\n",
      " - file:/sys\n",
      " - file:/mnt\n",
      " - file:/etc\n",
      " - file:/sbin\n",
      " - file:/var\n",
      " - file:/run\n",
      " - file:/lib64\n",
      " - file:/boot\n",
      " - file:/lib\n",
      " - file:/media\n",
      " - file:/proc\n",
      " - file:/opt\n",
      " - file:/srv\n",
      " - file:/dev\n",
      " - file:/home\n",
      " - file:/root\n",
      " - file:/lib32\n",
      " - file:/usr\n",
      " - file:/.dockerenv\n"
     ]
    }
   ],
   "source": [
    "import pyspark\n",
    "from pyspark.sql import SparkSession\n",
    "\n",
    "# Buat atau dapatkan SparkSession\n",
    "spark = SparkSession.builder \\\n",
    "    .appName(\"RAID-Test\") \\\n",
    "    .master(\"spark://spark-master:7077\") \\\n",
    "    .getOrCreate()\n",
    "\n",
    "# Cek konfigurasi\n",
    "print(\"Spark Version:\", spark.version)\n",
    "print(\"Spark Master URL:\", spark.conf.get(\"spark.master\"))\n",
    "print(\"Deploy Mode:\", spark.conf.get(\"spark.submit.deployMode\", \"client\"))\n",
    "\n",
    "# Coba akses HDFS (tanpa perlu Hadoop CLI!)\n",
    "try:\n",
    "    # List root HDFS (opsional, hanya jika direktori ada)\n",
    "    files = spark.sparkContext._gateway.jvm.org.apache.hadoop.fs.FileSystem \\\n",
    "        .get(spark.sparkContext._jsc.hadoopConfiguration()) \\\n",
    "        .listStatus(spark.sparkContext._gateway.jvm.org.apache.hadoop.fs.Path(\"/\"))\n",
    "    print(\"✅ Berhasil terhubung ke HDFS!\")\n",
    "    print(\"Isi root HDFS:\")\n",
    "    for f in files:\n",
    "        print(\" -\", f.getPath().toString())\n",
    "except Exception as e:\n",
    "    print(\"⚠️ Gagal akses HDFS (boleh lanjut jika hanya butuh Spark):\", str(e))"
   ]
  },
  {
   "cell_type": "code",
   "execution_count": 1,
   "id": "2b449698-6e04-4f11-89ed-0975b487f937",
   "metadata": {},
   "outputs": [],
   "source": [
    "!pip install gradio --quiet"
   ]
  },
  {
   "cell_type": "code",
   "execution_count": 2,
   "id": "f24a185d-83e5-4a06-940c-1246b0c55ab1",
   "metadata": {},
   "outputs": [],
   "source": [
    "!pip install transformers --quiet"
   ]
  },
  {
   "cell_type": "code",
   "execution_count": 3,
   "id": "87bd839f-3e4b-480e-b7eb-d80278140df4",
   "metadata": {},
   "outputs": [],
   "source": [
    "!pip install torch torchvision --index-url https://download.pytorch.org/whl/cpu --quiet"
   ]
  },
  {
   "cell_type": "code",
   "execution_count": null,
   "id": "10f463d1-5565-4330-96b7-56149f74acc4",
   "metadata": {},
   "outputs": [],
   "source": []
  }
 ],
 "metadata": {
  "kernelspec": {
   "display_name": "Python 3 (ipykernel)",
   "language": "python",
   "name": "python3"
  },
  "language_info": {
   "codemirror_mode": {
    "name": "ipython",
    "version": 3
   },
   "file_extension": ".py",
   "mimetype": "text/x-python",
   "name": "python",
   "nbconvert_exporter": "python",
   "pygments_lexer": "ipython3",
   "version": "3.11.6"
  }
 },
 "nbformat": 4,
 "nbformat_minor": 5
}
